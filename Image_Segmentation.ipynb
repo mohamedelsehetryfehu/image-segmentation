{
  "nbformat": 4,
  "nbformat_minor": 0,
  "metadata": {
    "colab": {
      "provenance": [],
      "authorship_tag": "ABX9TyO6tYgLZH6WK+sCAbn3jeeF"
    },
    "kernelspec": {
      "name": "python3",
      "display_name": "Python 3"
    },
    "language_info": {
      "name": "python"
    }
  },
  "cells": [
    {
      "cell_type": "code",
      "execution_count": null,
      "metadata": {
        "id": "8VY2lJ6Nuq57"
      },
      "outputs": [],
      "source": [
        "from matplotlib.image import imread\n",
        "import matplotlib.pyplot as plt\n",
        "from sklearn.cluster import KMeans\n",
        "from PIL import Image\n",
        "import numpy as np"
      ]
    },
    {
      "cell_type": "code",
      "source": [
        "def segment_image():\n",
        "  #Load the Image\n",
        "  image = Image.open(\"ireland.jpg\")\n",
        "  image_array = np.array(image)\n",
        "\n",
        "  #Flatten\n",
        "  pixels = image_array.reshape(-1,3)\n",
        "\n",
        "  #Apply K-means\n",
        "  kmeans - KMeans(n_clusters - 2)\n",
        "  Kmeans.fit(pixels)\n",
        "\n",
        "  #Reshape\n",
        "  labels Kmeans.labels_\n",
        "  labels_reshaped labels.reshape(image_array.shape[0], image_array.shape[1])\n",
        "  segmented_image Kmeans.cluster_centers_[labels_reshaped].astype(int)\n",
        "\n",
        "  return {'segmented_image': segmented_image,\n",
        "          'clusterer': Kmeans}"
      ],
      "metadata": {
        "id": "SgClI220vIHL"
      },
      "execution_count": null,
      "outputs": []
    }
  ]
}